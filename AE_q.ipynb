{
  "cells": [
    {
      "cell_type": "markdown",
      "metadata": {
        "id": "ujXF7zxunt9A"
      },
      "source": [
        "<h2 style = 'color: blue'> Auto Encoders <h2>\n"
      ]
    },
    {
      "cell_type": "markdown",
      "metadata": {
        "id": "7cH4gk3gnt9C"
      },
      "source": [
        "In this notebook, we start by implementing a vanilla AutoEncoder and then modify it to learn the distribution of the input instead of its features. The actual meaning of the features is determined and learned by the model as it processes the inputs and their corresponding outputs. Then we will make it convolutional and compare the results."
      ]
    },
    {
      "cell_type": "code",
      "execution_count": 1,
      "metadata": {
        "id": "s1heZmqlnt9D"
      },
      "outputs": [],
      "source": [
        "''' Import required libraries '''\n",
        "\n",
        "import torch\n",
        "from torch.utils.data import random_split, DataLoader\n",
        "import random\n",
        "import matplotlib.pyplot as plt\n",
        "from torchvision import transforms, datasets\n",
        "import torch.nn.functional as F"
      ]
    },
    {
      "cell_type": "markdown",
      "metadata": {
        "id": "iSl0Y1NRnt9F"
      },
      "source": [
        "<h4 style = 'color: green'> First we explore the dataset <h4>\n"
      ]
    },
    {
      "cell_type": "code",
      "execution_count": 2,
      "metadata": {
        "colab": {
          "base_uri": "https://localhost:8080/"
        },
        "id": "omZ4XQVgnt9F",
        "outputId": "1bdd6a71-9bf9-42ec-c8a4-a6c51076d026"
      },
      "outputs": [
        {
          "output_type": "stream",
          "name": "stdout",
          "text": [
            "Downloading http://yann.lecun.com/exdb/mnist/train-images-idx3-ubyte.gz\n",
            "Failed to download (trying next):\n",
            "<urlopen error [Errno 111] Connection refused>\n",
            "\n",
            "Downloading https://ossci-datasets.s3.amazonaws.com/mnist/train-images-idx3-ubyte.gz\n",
            "Downloading https://ossci-datasets.s3.amazonaws.com/mnist/train-images-idx3-ubyte.gz to mnist/MNIST/raw/train-images-idx3-ubyte.gz\n"
          ]
        },
        {
          "output_type": "stream",
          "name": "stderr",
          "text": [
            "100%|██████████| 9.91M/9.91M [00:00<00:00, 16.6MB/s]\n"
          ]
        },
        {
          "output_type": "stream",
          "name": "stdout",
          "text": [
            "Extracting mnist/MNIST/raw/train-images-idx3-ubyte.gz to mnist/MNIST/raw\n",
            "\n",
            "Downloading http://yann.lecun.com/exdb/mnist/train-labels-idx1-ubyte.gz\n",
            "Failed to download (trying next):\n",
            "<urlopen error [Errno 111] Connection refused>\n",
            "\n",
            "Downloading https://ossci-datasets.s3.amazonaws.com/mnist/train-labels-idx1-ubyte.gz\n",
            "Downloading https://ossci-datasets.s3.amazonaws.com/mnist/train-labels-idx1-ubyte.gz to mnist/MNIST/raw/train-labels-idx1-ubyte.gz\n"
          ]
        },
        {
          "output_type": "stream",
          "name": "stderr",
          "text": [
            "100%|██████████| 28.9k/28.9k [00:00<00:00, 502kB/s]\n"
          ]
        },
        {
          "output_type": "stream",
          "name": "stdout",
          "text": [
            "Extracting mnist/MNIST/raw/train-labels-idx1-ubyte.gz to mnist/MNIST/raw\n",
            "\n",
            "Downloading http://yann.lecun.com/exdb/mnist/t10k-images-idx3-ubyte.gz\n",
            "Failed to download (trying next):\n",
            "<urlopen error [Errno 111] Connection refused>\n",
            "\n",
            "Downloading https://ossci-datasets.s3.amazonaws.com/mnist/t10k-images-idx3-ubyte.gz\n",
            "Downloading https://ossci-datasets.s3.amazonaws.com/mnist/t10k-images-idx3-ubyte.gz to mnist/MNIST/raw/t10k-images-idx3-ubyte.gz\n"
          ]
        },
        {
          "output_type": "stream",
          "name": "stderr",
          "text": [
            "100%|██████████| 1.65M/1.65M [00:00<00:00, 4.59MB/s]\n"
          ]
        },
        {
          "output_type": "stream",
          "name": "stdout",
          "text": [
            "Extracting mnist/MNIST/raw/t10k-images-idx3-ubyte.gz to mnist/MNIST/raw\n",
            "\n",
            "Downloading http://yann.lecun.com/exdb/mnist/t10k-labels-idx1-ubyte.gz\n",
            "Failed to download (trying next):\n",
            "<urlopen error [Errno 111] Connection refused>\n",
            "\n",
            "Downloading https://ossci-datasets.s3.amazonaws.com/mnist/t10k-labels-idx1-ubyte.gz\n",
            "Downloading https://ossci-datasets.s3.amazonaws.com/mnist/t10k-labels-idx1-ubyte.gz to mnist/MNIST/raw/t10k-labels-idx1-ubyte.gz\n"
          ]
        },
        {
          "output_type": "stream",
          "name": "stderr",
          "text": [
            "100%|██████████| 4.54k/4.54k [00:00<00:00, 4.52MB/s]"
          ]
        },
        {
          "output_type": "stream",
          "name": "stdout",
          "text": [
            "Extracting mnist/MNIST/raw/t10k-labels-idx1-ubyte.gz to mnist/MNIST/raw\n",
            "\n"
          ]
        },
        {
          "output_type": "stream",
          "name": "stderr",
          "text": [
            "\n"
          ]
        }
      ],
      "source": [
        "device = torch.device('cuda' if torch.cuda.is_available() else 'cpu')\n",
        "\n",
        "batch_size = 64\n",
        "lr = 1e-3\n",
        "epochs = 5\n",
        "\n",
        "t = transforms.Compose([transforms.ToTensor()])\n",
        "\n",
        "data = datasets.MNIST(root='mnist/', download=True, transform=t)\n",
        "train_data, test_data = random_split(data, [50000, 10000])\n",
        "\n",
        "train_loader = DataLoader(dataset=train_data, batch_size=batch_size, shuffle=True)\n",
        "test_loader  = DataLoader(dataset=test_data,  batch_size=batch_size, shuffle=False)"
      ]
    },
    {
      "cell_type": "markdown",
      "metadata": {
        "id": "jQVQ8zlWnt9G"
      },
      "source": [
        "Visualize some random samples from the dataset"
      ]
    },
    {
      "cell_type": "code",
      "execution_count": 3,
      "metadata": {
        "colab": {
          "base_uri": "https://localhost:8080/",
          "height": 160
        },
        "id": "DEPC-xyknt9H",
        "outputId": "d11c0760-ee68-4b78-a18d-5d473832dcef"
      },
      "outputs": [
        {
          "output_type": "display_data",
          "data": {
            "text/plain": [
              "<Figure size 1500x300 with 8 Axes>"
            ],
            "image/png": "[encoded data removed]"
          },
          "metadata": {}
        }
      ],
      "source": [
        "''' visualization '''\n",
        "\n",
        "def show_images(images, nmax=8):\n",
        "    fig, ax = plt.subplots(1, nmax, figsize=(15,3))\n",
        "    for i in range(nmax):\n",
        "        ax[i].imshow(images[i].squeeze().cpu().numpy(), cmap='gray')\n",
        "        ax[i].axis('off')\n",
        "    plt.show()\n",
        "\n",
        "# Get one batch\n",
        "sample_batch, _ = next(iter(train_loader))\n",
        "show_images(sample_batch)\n"
      ]
    },
    {
      "cell_type": "markdown",
      "metadata": {
        "id": "7UGpwtbYnt9I"
      },
      "source": [
        "<img  style = \"height: 500px; display: flex; justify-content: center;\" src = 'https://b2633864.smushcdn.com/2633864/wp-content/uploads/2023/07/vanilla-AE.png?size=630x472&lossy=2&strip=1&webp=1'>\n"
      ]
    },
    {
      "cell_type": "markdown",
      "metadata": {
        "id": "0dHmbGSOnt9J"
      },
      "source": [
        "Imagine we have a 28x28 pixel image. We save n features of this image, and later, we can reconstruct the image using just these features. There's a magical machine that knows how to extract these n features from the original image, and another machine that knows how to reconstruct the image based on those features. When training an AutoEncoder, these two machines, called the encoder and decoder, learn how to perform these operations.\n",
        "\n",
        "The encoder learns how to compress the image into a smaller feature space, while the decoder learns how to reconstruct the original image from this compressed representation."
      ]
    },
    {
      "cell_type": "markdown",
      "metadata": {
        "id": "UZp2CFElnt9J"
      },
      "source": [
        "<h4 style = 'color: green'> Here you implement an AutoEncoder <h4>\n"
      ]
    },
    {
      "cell_type": "code",
      "execution_count": 4,
      "metadata": {
        "id": "hfqbHItVnt9K"
      },
      "outputs": [],
      "source": [
        "''' AutoEncoder class '''\n",
        "\n",
        "class AE(torch.nn.Module):\n",
        "    def __init__(self, inputSize=784, hiddenSize=256, featureSize=64):\n",
        "        super().__init__()\n",
        "\n",
        "        # Encoder\n",
        "        self.encoder = torch.nn.Sequential(\n",
        "            torch.nn.Linear(inputSize, hiddenSize),\n",
        "            torch.nn.ReLU(),\n",
        "            torch.nn.Linear(hiddenSize, featureSize)\n",
        "        )\n",
        "\n",
        "        # Decoder\n",
        "        self.decoder = torch.nn.Sequential(\n",
        "            torch.nn.Linear(featureSize, hiddenSize),\n",
        "            torch.nn.ReLU(),\n",
        "            torch.nn.Linear(hiddenSize, inputSize),\n",
        "            torch.nn.Sigmoid()  # Sigmoid -> because input is in [0,1]\n",
        "        )\n",
        "\n",
        "    def forward(self, x):\n",
        "        # Flatten (B, 1, 28, 28) -> (B, 784)\n",
        "        x = x.view(x.size(0), -1)\n",
        "        # Encode\n",
        "        z = self.encoder(x)\n",
        "        # Decode\n",
        "        out = self.decoder(z)\n",
        "        # Reshape back to image\n",
        "        out = out.view(x.size(0), 1, 28, 28)\n",
        "        return out\n"
      ]
    },
    {
      "cell_type": "markdown",
      "metadata": {
        "id": "2hQT4Fjunt9K"
      },
      "source": [
        "Before we start training and evaluation, let's implement a variation of this model. During inference, in the traditional AutoEncoder, each image is mapped to a fixed vector of features, and the model is strict about this exact representation. Instead of using fixed numbers, we can keep a distribution, allowing for smoother interpolation in the feature space.\n",
        "\n",
        "To achieve this, we introduce two vectors for each image: one representing the mean, and the other representing the log of the variance. Both vectors have the same size as the original feature space. In other words, we now have the parameters required to define a unique normal distribution for each image.\n",
        "\n",
        "<img  style = \"height: 500px; display: flex; justify-content: center;\" src = 'https://github.com/bvezilic/Variational-autoencoder/raw/master/assets/VAE.001.jpeg'>\n",
        "\n",
        "\n",
        "During decoding, instead of using a fixed feature vector, we sample from this distribution to build the features. This makes our model more flexible and generative, allowing it to create variations of images similar to those in the training dataset."
      ]
    },
    {
      "cell_type": "markdown",
      "metadata": {
        "id": "xIxYR6Ognt9L"
      },
      "source": [
        "<div style=\"color: orange;\">\n",
        "  <h3>Now you might ask two questions:</h3>\n",
        "  <ul>\n",
        "    <li>Why do we keep the logarithm of the variance instead of the standard deviation?</li>\n",
        "    <p>In short, it's due to numerical instability. If you're not convinced, you can check\n",
        "      <a href=\"https://stats.stackexchange.com/questions/353220/why-in-variational-auto-encoder-gaussian-variational-family-we-model-log-sig\" style=\"color: blue;\">here</a>.\n",
        "    </p>\n",
        "    <li>How and where do we reparameterize?</li>\n",
        "    <p>All you need to do during reparameterization is to compute the standard deviation using the formula:</p>\n",
        "    <p style=\"font-weight: bold; text-align: center;\">std = e<sup>0.5 * logvar</sup></p>\n",
        "    <p>This can be implemented in the reparameterization function within the class below.</p>\n",
        "  \n",
        "  </ul>\n",
        "</div>\n"
      ]
    },
    {
      "cell_type": "markdown",
      "metadata": {
        "id": "5-0YQJxFnt9L"
      },
      "source": [
        "<h4 style = 'color: green'> Now you implement a Variational AutoEncoder <h4>\n"
      ]
    },
    {
      "cell_type": "code",
      "execution_count": 9,
      "metadata": {
        "id": "5VcmXpM6nt9M"
      },
      "outputs": [],
      "source": [
        "''' Variational AutoEncoder class '''\n",
        "\n",
        "class VAE(torch.nn.Module):\n",
        "    def __init__(self, inputSize=784, hiddenSize=256, featureSize=64):\n",
        "        super().__init__()\n",
        "\n",
        "        # Encoder -> outputs both mu and logvar\n",
        "        self.encoder = torch.nn.Sequential(\n",
        "            torch.nn.Linear(inputSize, hiddenSize),\n",
        "            torch.nn.ReLU()\n",
        "        )\n",
        "        self.fc_mu     = torch.nn.Linear(hiddenSize, featureSize)\n",
        "        self.fc_logvar = torch.nn.Linear(hiddenSize, featureSize)\n",
        "\n",
        "        # Decoder\n",
        "        self.decoder = torch.nn.Sequential(\n",
        "            torch.nn.Linear(featureSize, hiddenSize),\n",
        "            torch.nn.ReLU(),\n",
        "            torch.nn.Linear(hiddenSize, inputSize),\n",
        "            torch.nn.Sigmoid()\n",
        "        )\n",
        "\n",
        "    def reparameterize(self, mu, logvar):\n",
        "        # std = exp(0.5 * logvar)\n",
        "        std = torch.exp(0.5 * logvar)\n",
        "        # eps ~ N(0,1)\n",
        "        eps = torch.randn_like(std)\n",
        "        return mu + eps * std\n",
        "\n",
        "    def forward(self, x):\n",
        "        # Flatten\n",
        "        x = x.view(x.size(0), -1)\n",
        "        # Encode\n",
        "        h = self.encoder(x)\n",
        "        mu = self.fc_mu(h)\n",
        "        logvar = self.fc_logvar(h)\n",
        "\n",
        "        # Sample z\n",
        "        z = self.reparameterize(mu, logvar)\n",
        "\n",
        "        # Decode\n",
        "        out = self.decoder(z)\n",
        "        out = out.view(x.size(0), 1, 28, 28)\n",
        "        return out, mu, logvar"
      ]
    },
    {
      "cell_type": "markdown",
      "metadata": {
        "id": "MawdUWomnt9M"
      },
      "source": [
        "<h4 style = 'color: green'> Here, we first train the AE and then the VAE <h4>\n"
      ]
    },
    {
      "cell_type": "code",
      "execution_count": 7,
      "metadata": {
        "colab": {
          "base_uri": "https://localhost:8080/"
        },
        "id": "8e56Gwa0nt9N",
        "outputId": "3c54125f-5673-489e-c7eb-41762a63d95a"
      },
      "outputs": [
        {
          "output_type": "stream",
          "name": "stdout",
          "text": [
            "Epoch [1/30], Loss: 0.0307\n",
            "Epoch [2/30], Loss: 0.0111\n",
            "Epoch [3/30], Loss: 0.0081\n",
            "Epoch [4/30], Loss: 0.0067\n",
            "Epoch [5/30], Loss: 0.0057\n",
            "Epoch [6/30], Loss: 0.0050\n",
            "Epoch [7/30], Loss: 0.0046\n",
            "Epoch [8/30], Loss: 0.0042\n",
            "Epoch [9/30], Loss: 0.0040\n",
            "Epoch [10/30], Loss: 0.0037\n",
            "Epoch [11/30], Loss: 0.0035\n",
            "Epoch [12/30], Loss: 0.0034\n",
            "Epoch [13/30], Loss: 0.0033\n",
            "Epoch [14/30], Loss: 0.0032\n",
            "Epoch [15/30], Loss: 0.0031\n",
            "Epoch [16/30], Loss: 0.0030\n",
            "Epoch [17/30], Loss: 0.0029\n",
            "Epoch [18/30], Loss: 0.0029\n",
            "Epoch [19/30], Loss: 0.0028\n",
            "Epoch [20/30], Loss: 0.0028\n",
            "Epoch [21/30], Loss: 0.0028\n",
            "Epoch [22/30], Loss: 0.0027\n",
            "Epoch [23/30], Loss: 0.0027\n",
            "Epoch [24/30], Loss: 0.0027\n",
            "Epoch [25/30], Loss: 0.0026\n",
            "Epoch [26/30], Loss: 0.0026\n",
            "Epoch [27/30], Loss: 0.0026\n",
            "Epoch [28/30], Loss: 0.0026\n",
            "Epoch [29/30], Loss: 0.0026\n",
            "Epoch [30/30], Loss: 0.0026\n"
          ]
        }
      ],
      "source": [
        "''' Train loop '''\n",
        "def train_ae(model, loader, optimizer, criterion, epochs=5):\n",
        "    model.train()\n",
        "    for epoch in range(epochs):\n",
        "        total_loss = 0\n",
        "        for images, _ in loader:\n",
        "            images = images.to(device)\n",
        "\n",
        "            # Forward\n",
        "            reconstructed = model(images)\n",
        "            loss = criterion(reconstructed, images)\n",
        "\n",
        "            # Backprop\n",
        "            optimizer.zero_grad()\n",
        "            loss.backward()\n",
        "            optimizer.step()\n",
        "\n",
        "            total_loss += loss.item()\n",
        "\n",
        "        print(f\"Epoch [{epoch+1}/{epochs}], Loss: {total_loss/len(loader):.4f}\")\n",
        "\n",
        "\n",
        "# Instantiate and train\n",
        "ae_model = AE(inputSize=784, hiddenSize=256, featureSize=64).to(device)\n",
        "optimizer_ae = torch.optim.Adam(ae_model.parameters(), lr=lr)\n",
        "mse_loss = torch.nn.MSELoss()\n",
        "\n",
        "train_ae(ae_model, train_loader, optimizer_ae, mse_loss, epochs=30)\n"
      ]
    },
    {
      "cell_type": "markdown",
      "metadata": {
        "id": "fSItRLdfnt9O"
      },
      "source": [
        "Implement a function that takes the model and the number of images as inputs, samples random images from your test dataset, and displays both the original and reconstructed images."
      ]
    },
    {
      "cell_type": "code",
      "execution_count": 8,
      "metadata": {
        "colab": {
          "base_uri": "https://localhost:8080/",
          "height": 336
        },
        "id": "-jM1_BI8nt9O",
        "outputId": "6bdccda5-6a34-4461-bad1-19efd6c3bd6e"
      },
      "outputs": [
        {
          "output_type": "stream",
          "name": "stdout",
          "text": [
            "Original:\n"
          ]
        },
        {
          "output_type": "display_data",
          "data": {
            "text/plain": [
              "<Figure size 1500x300 with 8 Axes>"
            ],
            "image/png": "[encoded data removed]"
          },
          "metadata": {}
        },
        {
          "output_type": "stream",
          "name": "stdout",
          "text": [
            "Reconstructed:\n"
          ]
        },
        {
          "output_type": "display_data",
          "data": {
            "text/plain": [
              "<Figure size 1500x300 with 8 Axes>"
            ],
            "image/png": "[encoded data removed]"
          },
          "metadata": {}
        }
      ],
      "source": [
        "''' evaluation '''\n",
        "\n",
        "def visualize_reconstruction(model, loader, n_images=8):\n",
        "    model.eval()\n",
        "    images, _ = next(iter(loader))  # just one batch\n",
        "    images = images.to(device)\n",
        "    with torch.no_grad():\n",
        "        recon = model(images)\n",
        "\n",
        "    # Move back to CPU for plotting\n",
        "    images = images.cpu()\n",
        "    recon = recon.cpu()\n",
        "\n",
        "    # Plot original\n",
        "    print(\"Original:\")\n",
        "    show_images(images, n_images)\n",
        "\n",
        "    # Plot reconstructed\n",
        "    print(\"Reconstructed:\")\n",
        "    show_images(recon, n_images)\n",
        "\n",
        "visualize_reconstruction(ae_model, test_loader, n_images=8)"
      ]
    },
    {
      "cell_type": "markdown",
      "metadata": {
        "id": "zXIcr4F7nt9P"
      },
      "source": [
        "<h4 style = 'color: green'> Now we do exactly the same but this time for the VAE <h4>\n"
      ]
    },
    {
      "cell_type": "markdown",
      "metadata": {
        "id": "7EVHEyMrnt9P"
      },
      "source": [
        "Here, KL is a good choice, so we consider this loss with the proper weight in our training loop.\n",
        "\n",
        "The KL (Kullback-Leibler) loss measures the difference between two probability distributions. In Variational Autoencoders (VAEs), KL loss ensures that the learned latent space follows a standard normal distribution.\n",
        "\n",
        "The formula for KL loss is:\n",
        "\n",
        "$\n",
        "\\text{KL}(q(z \\mid x) \\| p(z)) = -\\frac{1}{2} \\sum \\left( 1 + \\log(\\sigma^2) - \\mu^2 - \\sigma^2 \\right)\n",
        "$\n"
      ]
    },
    {
      "cell_type": "code",
      "execution_count": 10,
      "metadata": {
        "colab": {
          "base_uri": "https://localhost:8080/"
        },
        "id": "jKtlky0Unt9P",
        "outputId": "cc66c0f7-407f-4232-a88b-cd9cf7c9bf46"
      },
      "outputs": [
        {
          "output_type": "stream",
          "name": "stdout",
          "text": [
            "Epoch [1/30]  Total: 47.1860  Recon: 41.5126  KL: 5.6734\n",
            "Epoch [2/30]  Total: 37.9362  Recon: 28.7666  KL: 9.1696\n",
            "Epoch [3/30]  Total: 34.9114  Recon: 24.8012  KL: 10.1102\n",
            "Epoch [4/30]  Total: 33.4638  Recon: 22.8343  KL: 10.6295\n",
            "Epoch [5/30]  Total: 32.6665  Recon: 21.6923  KL: 10.9742\n",
            "Epoch [6/30]  Total: 32.1101  Recon: 20.9587  KL: 11.1514\n",
            "Epoch [7/30]  Total: 31.7818  Recon: 20.4465  KL: 11.3353\n",
            "Epoch [8/30]  Total: 31.5425  Recon: 20.0661  KL: 11.4764\n",
            "Epoch [9/30]  Total: 31.3164  Recon: 19.7514  KL: 11.5650\n",
            "Epoch [10/30]  Total: 31.1452  Recon: 19.4858  KL: 11.6594\n",
            "Epoch [11/30]  Total: 30.9963  Recon: 19.2880  KL: 11.7083\n",
            "Epoch [12/30]  Total: 30.8666  Recon: 19.1234  KL: 11.7432\n",
            "Epoch [13/30]  Total: 30.7634  Recon: 18.9783  KL: 11.7851\n",
            "Epoch [14/30]  Total: 30.6391  Recon: 18.8496  KL: 11.7895\n",
            "Epoch [15/30]  Total: 30.5424  Recon: 18.7219  KL: 11.8205\n",
            "Epoch [16/30]  Total: 30.4883  Recon: 18.6420  KL: 11.8463\n",
            "Epoch [17/30]  Total: 30.3948  Recon: 18.5249  KL: 11.8699\n",
            "Epoch [18/30]  Total: 30.3199  Recon: 18.4305  KL: 11.8894\n",
            "Epoch [19/30]  Total: 30.2588  Recon: 18.3353  KL: 11.9236\n",
            "Epoch [20/30]  Total: 30.2162  Recon: 18.2972  KL: 11.9191\n",
            "Epoch [21/30]  Total: 30.1784  Recon: 18.2244  KL: 11.9540\n",
            "Epoch [22/30]  Total: 30.0805  Recon: 18.1507  KL: 11.9298\n",
            "Epoch [23/30]  Total: 30.0388  Recon: 18.0712  KL: 11.9675\n",
            "Epoch [24/30]  Total: 30.0024  Recon: 18.0365  KL: 11.9658\n",
            "Epoch [25/30]  Total: 29.9382  Recon: 17.9753  KL: 11.9630\n",
            "Epoch [26/30]  Total: 29.9208  Recon: 17.9410  KL: 11.9799\n",
            "Epoch [27/30]  Total: 29.8577  Recon: 17.8766  KL: 11.9811\n",
            "Epoch [28/30]  Total: 29.8420  Recon: 17.8391  KL: 12.0028\n",
            "Epoch [29/30]  Total: 29.7914  Recon: 17.7965  KL: 11.9948\n",
            "Epoch [30/30]  Total: 29.7738  Recon: 17.7436  KL: 12.0302\n"
          ]
        }
      ],
      "source": [
        "''' Train loop '''\n",
        "\n",
        "def vae_loss(recon, x, mu, logvar):\n",
        "    # MSE (or could be BCE) for reconstruction\n",
        "    recon_loss = F.mse_loss(recon, x, reduction='sum')  # sum over batch\n",
        "\n",
        "    # KL divergence\n",
        "    # kl = -0.5 * sum(1 + logvar - mu^2 - exp(logvar))\n",
        "    kl = -0.5 * torch.sum(1 + logvar - mu.pow(2) - logvar.exp())\n",
        "\n",
        "    return recon_loss + kl, recon_loss, kl\n",
        "\n",
        "\n",
        "def train_vae(model, loader, optimizer, epochs=5):\n",
        "    model.train()\n",
        "    for epoch in range(epochs):\n",
        "        total_loss = 0\n",
        "        total_recon = 0\n",
        "        total_kl = 0\n",
        "        for images, _ in loader:\n",
        "            images = images.to(device)\n",
        "\n",
        "            recon, mu, logvar = model(images)\n",
        "            loss, recon_loss, kl = vae_loss(recon, images, mu, logvar)\n",
        "\n",
        "            optimizer.zero_grad()\n",
        "            loss.backward()\n",
        "            optimizer.step()\n",
        "\n",
        "            total_loss   += loss.item()\n",
        "            total_recon  += recon_loss.item()\n",
        "            total_kl     += kl.item()\n",
        "\n",
        "        avg_loss   = total_loss / len(loader.dataset)\n",
        "        avg_recon  = total_recon / len(loader.dataset)\n",
        "        avg_kl     = total_kl / len(loader.dataset)\n",
        "        print(f\"Epoch [{epoch+1}/{epochs}]  Total: {avg_loss:.4f}  \"\n",
        "              f\"Recon: {avg_recon:.4f}  KL: {avg_kl:.4f}\")\n",
        "\n",
        "\n",
        "# Instantiate and train\n",
        "vae_model = VAE(inputSize=784, hiddenSize=256, featureSize=64).to(device)\n",
        "optimizer_vae = torch.optim.Adam(vae_model.parameters(), lr=lr)\n",
        "\n",
        "train_vae(vae_model, train_loader, optimizer_vae, epochs=30)"
      ]
    },
    {
      "cell_type": "markdown",
      "metadata": {
        "id": "BnYC9-h-nt9Q"
      },
      "source": [
        "Same as you did, compare the constructed images and original ones but this time with the VAE model"
      ]
    },
    {
      "cell_type": "code",
      "execution_count": 11,
      "metadata": {
        "colab": {
          "base_uri": "https://localhost:8080/",
          "height": 336
        },
        "id": "qfcHrSVbnt9Q",
        "outputId": "91edf209-f49f-4868-9448-bdfb6521f818"
      },
      "outputs": [
        {
          "output_type": "stream",
          "name": "stdout",
          "text": [
            "Original:\n"
          ]
        },
        {
          "output_type": "display_data",
          "data": {
            "text/plain": [
              "<Figure size 1500x300 with 8 Axes>"
            ],
            "image/png": "[encoded data removed]"
          },
          "metadata": {}
        },
        {
          "output_type": "stream",
          "name": "stdout",
          "text": [
            "Reconstructed:\n"
          ]
        },
        {
          "output_type": "display_data",
          "data": {
            "text/plain": [
              "<Figure size 1500x300 with 8 Axes>"
            ],
            "image/png": "[encoded data removed]"
          },
          "metadata": {}
        }
      ],
      "source": [
        "''' evaluation '''\n",
        "def visualize_vae_reconstruction(model, loader, n_images=8):\n",
        "    model.eval()\n",
        "    images, _ = next(iter(loader))\n",
        "    images = images.to(device)\n",
        "    with torch.no_grad():\n",
        "        recon, mu, logvar = model(images)\n",
        "    images = images.cpu()\n",
        "    recon = recon.cpu()\n",
        "\n",
        "    print(\"Original:\")\n",
        "    show_images(images, n_images)\n",
        "\n",
        "    print(\"Reconstructed:\")\n",
        "    show_images(recon, n_images)\n",
        "\n",
        "visualize_vae_reconstruction(vae_model, test_loader, n_images=8)"
      ]
    },
    {
      "cell_type": "markdown",
      "metadata": {
        "id": "NDw2uTzynt9R"
      },
      "source": [
        "This time, we modify the VAE to process the input using convolutional layers. Implement a convolutional VAE with an architecture of your choice, but keep it as simple as possible."
      ]
    },
    {
      "cell_type": "code",
      "execution_count": 12,
      "metadata": {
        "id": "LS8Cimrhnt9R"
      },
      "outputs": [],
      "source": [
        "class CNNVAE(torch.nn.Module):\n",
        "    def __init__(self, latent_dim=20):\n",
        "        super().__init__()\n",
        "\n",
        "        # -------------------\n",
        "        # ENCODER\n",
        "        # -------------------\n",
        "        # (B, 1, 28, 28)\n",
        "        self.encoderConv = torch.nn.Sequential(\n",
        "            torch.nn.Conv2d(1, 32, kernel_size=3, stride=2, padding=1),  # -> (B, 32, 14, 14)\n",
        "            torch.nn.ReLU(),\n",
        "            torch.nn.Conv2d(32, 64, kernel_size=3, stride=2, padding=1), # -> (B, 64, 7, 7)\n",
        "            torch.nn.ReLU()\n",
        "        )\n",
        "\n",
        "        # Flatten (64*7*7 = 3136)\n",
        "        self.fc_mu     = torch.nn.Linear(64*7*7, latent_dim)\n",
        "        self.fc_logvar = torch.nn.Linear(64*7*7, latent_dim)\n",
        "\n",
        "        # -------------------\n",
        "        # DECODER\n",
        "        # -------------------\n",
        "        self.decoderInput = torch.nn.Linear(latent_dim, 64*7*7)\n",
        "\n",
        "        # Convert back to (B,64,7,7) then do transpose conv\n",
        "        self.decoderConv = torch.nn.Sequential(\n",
        "            torch.nn.ConvTranspose2d(64, 32, kernel_size=3, stride=2, padding=1, output_padding=1), # -> (B,32,14,14)\n",
        "            torch.nn.ReLU(),\n",
        "            torch.nn.ConvTranspose2d(32, 1, kernel_size=3, stride=2, padding=1, output_padding=1),  # -> (B,1,28,28)\n",
        "            torch.nn.Sigmoid()\n",
        "        )\n",
        "\n",
        "    def reparameterize(self, mu, logvar):\n",
        "        std = torch.exp(0.5 * logvar)\n",
        "        eps = torch.randn_like(std)\n",
        "        return mu + eps * std\n",
        "\n",
        "    def forward(self, x):\n",
        "        # Encode\n",
        "        x_enc = self.encoderConv(x)\n",
        "        x_enc = x_enc.view(x_enc.size(0), -1)  # flatten\n",
        "        mu = self.fc_mu(x_enc)\n",
        "        logvar = self.fc_logvar(x_enc)\n",
        "\n",
        "        # Sample in latent space\n",
        "        z = self.reparameterize(mu, logvar)\n",
        "\n",
        "        # Decode\n",
        "        x_dec = self.decoderInput(z)\n",
        "        x_dec = x_dec.view(-1, 64, 7, 7)\n",
        "        x_dec = self.decoderConv(x_dec)\n",
        "\n",
        "        return x_dec, mu, logvar"
      ]
    },
    {
      "cell_type": "markdown",
      "metadata": {
        "id": "5-tGGwvHnt9R"
      },
      "source": [
        "Train your convolutional VAE model (same as you did for VAE)"
      ]
    },
    {
      "cell_type": "code",
      "execution_count": 13,
      "metadata": {
        "colab": {
          "base_uri": "https://localhost:8080/"
        },
        "id": "SUBRWCGMnt9S",
        "outputId": "9c82cd53-7f8c-4137-b41f-566a6f35360b"
      },
      "outputs": [
        {
          "output_type": "stream",
          "name": "stdout",
          "text": [
            "Epoch [1/30]  Total: 45.0587  Recon: 35.3391  KL: 9.7196\n",
            "Epoch [2/30]  Total: 33.7030  Recon: 21.4743  KL: 12.2287\n",
            "Epoch [3/30]  Total: 32.2837  Recon: 19.6663  KL: 12.6174\n",
            "Epoch [4/30]  Total: 31.6690  Recon: 18.9115  KL: 12.7574\n",
            "Epoch [5/30]  Total: 31.2714  Recon: 18.4882  KL: 12.7832\n",
            "Epoch [6/30]  Total: 31.0238  Recon: 18.2135  KL: 12.8102\n",
            "Epoch [7/30]  Total: 30.7334  Recon: 17.9605  KL: 12.7729\n",
            "Epoch [8/30]  Total: 30.5529  Recon: 17.7919  KL: 12.7610\n",
            "Epoch [9/30]  Total: 30.3775  Recon: 17.6340  KL: 12.7435\n",
            "Epoch [10/30]  Total: 30.2196  Recon: 17.5030  KL: 12.7166\n",
            "Epoch [11/30]  Total: 30.0745  Recon: 17.3903  KL: 12.6842\n",
            "Epoch [12/30]  Total: 29.9779  Recon: 17.2819  KL: 12.6960\n",
            "Epoch [13/30]  Total: 29.8666  Recon: 17.1864  KL: 12.6801\n",
            "Epoch [14/30]  Total: 29.7743  Recon: 17.1224  KL: 12.6519\n",
            "Epoch [15/30]  Total: 29.7028  Recon: 17.0217  KL: 12.6811\n",
            "Epoch [16/30]  Total: 29.6357  Recon: 16.9763  KL: 12.6594\n",
            "Epoch [17/30]  Total: 29.5334  Recon: 16.8718  KL: 12.6615\n",
            "Epoch [18/30]  Total: 29.4965  Recon: 16.8203  KL: 12.6762\n",
            "Epoch [19/30]  Total: 29.4239  Recon: 16.7661  KL: 12.6578\n",
            "Epoch [20/30]  Total: 29.4088  Recon: 16.7365  KL: 12.6723\n",
            "Epoch [21/30]  Total: 29.3274  Recon: 16.6610  KL: 12.6664\n",
            "Epoch [22/30]  Total: 29.2993  Recon: 16.6490  KL: 12.6502\n",
            "Epoch [23/30]  Total: 29.2346  Recon: 16.5729  KL: 12.6617\n",
            "Epoch [24/30]  Total: 29.2063  Recon: 16.5500  KL: 12.6563\n",
            "Epoch [25/30]  Total: 29.1480  Recon: 16.5153  KL: 12.6327\n",
            "Epoch [26/30]  Total: 29.1142  Recon: 16.4806  KL: 12.6336\n",
            "Epoch [27/30]  Total: 29.0888  Recon: 16.4512  KL: 12.6376\n",
            "Epoch [28/30]  Total: 29.0627  Recon: 16.4139  KL: 12.6487\n",
            "Epoch [29/30]  Total: 29.0370  Recon: 16.3921  KL: 12.6449\n",
            "Epoch [30/30]  Total: 29.0006  Recon: 16.3549  KL: 12.6457\n"
          ]
        }
      ],
      "source": [
        "''' Train loop '''\n",
        "\n",
        "cnn_vae_model = CNNVAE(latent_dim=20).to(device)\n",
        "optimizer_cnn_vae = torch.optim.Adam(cnn_vae_model.parameters(), lr=lr)\n",
        "\n",
        "train_vae(cnn_vae_model, train_loader, optimizer_cnn_vae, epochs=30)"
      ]
    },
    {
      "cell_type": "markdown",
      "metadata": {
        "id": "bJ-D_WDCnt9S"
      },
      "source": [
        "Compare the reconstructed and original images as you did before, but for the model you have just trained"
      ]
    },
    {
      "cell_type": "code",
      "execution_count": 14,
      "metadata": {
        "colab": {
          "base_uri": "https://localhost:8080/",
          "height": 336
        },
        "id": "UyqM_EIqnt9S",
        "outputId": "5aa683b3-6daa-4428-9d72-1769ca08e669"
      },
      "outputs": [
        {
          "output_type": "stream",
          "name": "stdout",
          "text": [
            "Original:\n"
          ]
        },
        {
          "output_type": "display_data",
          "data": {
            "text/plain": [
              "<Figure size 1500x300 with 8 Axes>"
            ],
            "image/png": "[encoded data removed]"
          },
          "metadata": {}
        },
        {
          "output_type": "stream",
          "name": "stdout",
          "text": [
            "Reconstructed:\n"
          ]
        },
        {
          "output_type": "display_data",
          "data": {
            "text/plain": [
              "<Figure size 1500x300 with 8 Axes>"
            ],
            "image/png": "[encoded data removed]"
          },
          "metadata": {}
        }
      ],
      "source": [
        "''' evaluation '''\n",
        "def visualize_cnn_vae_reconstruction(model, loader, n_images=8):\n",
        "    model.eval()\n",
        "    images, _ = next(iter(loader))\n",
        "    images = images.to(device)\n",
        "    with torch.no_grad():\n",
        "        recon, mu, logvar = model(images)\n",
        "    images = images.cpu()\n",
        "    recon = recon.cpu()\n",
        "\n",
        "    print(\"Original:\")\n",
        "    show_images(images, n_images)\n",
        "\n",
        "    print(\"Reconstructed:\")\n",
        "    show_images(recon, n_images)\n",
        "\n",
        "visualize_cnn_vae_reconstruction(cnn_vae_model, test_loader, n_images=8)\n"
      ]
    }
  ],
  "metadata": {
    "kernelspec": {
      "display_name": "Python 3",
      "name": "python3"
    },
    "language_info": {
      "codemirror_mode": {
        "name": "ipython",
        "version": 3
      },
      "file_extension": ".py",
      "mimetype": "text/x-python",
      "name": "python",
      "nbconvert_exporter": "python",
      "pygments_lexer": "ipython3",
      "version": "3.11.0"
    },
    "colab": {
      "provenance": [],
      "gpuType": "T4"
    },
    "accelerator": "GPU"
  },
  "nbformat": 4,
  "nbformat_minor": 0
}